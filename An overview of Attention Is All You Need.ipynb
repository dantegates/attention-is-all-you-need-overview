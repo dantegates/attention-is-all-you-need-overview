{
 "cells": [
  {
   "cell_type": "markdown",
   "metadata": {},
   "source": [
    "# An Overview of Attention Is All You Need"
   ]
  },
  {
   "cell_type": "markdown",
   "metadata": {},
   "source": [
    "About a year ago now a paper called [Attention Is All You Need](https://arxiv.org/pdf/1706.03762.pdf) (in this post sometimes referred to as simply \"the paper\") introduced an architecture called the Transformer model for sequence to sequence problems that achieved state of the art results in machine translation. The name of the paper is taken from the approach of building a model that leverages the widely successful attention mechanism within a more traditional \"feed forward\" framework without using recurrence or convolutions.\n",
    "\n",
    "Since its introduction slight variations of the Transformer have been applied to a variety of problems, see [here](https://github.com/tensorflow/tensor2tensor), outside of machine translation such as image classification, text summarization, speech recognition and even [generating fake wikipedia articles](https://www.youtube.com/watch?v=rBCqOTEfxvg).\n",
    "\n",
    "In this post we'll survey the key elements of the Transformer model and training one end to end. In a follow up post I'll walk through a `keras` implementation of the Transformer model (as of this writing the implementation is about 95% complete, however if you're curious you can find the implementation [here](https://github.com/dantegates/attention-is-all-you-need) on my GitHub account in the mean time)."
   ]
  },
  {
   "cell_type": "markdown",
   "metadata": {},
   "source": [
    "# Preliminaries\n",
    "\n",
    "Before going in depth, let's cover some preliminaries. If you are unfamiliar with the topics covered here you may want to do some additional research before continuing.\n",
    "\n",
    "**Sequence to sequence (seq2seq)**: Seq2seq models map input of an arbitrary length to an output of arbitrary length. This is different from the conventional notion of machine learning models which are trained on a feature space of *fixed* dimmension to predict an output of *fixed* dimmension. A positive example is translating sentences from English to French where both the input and output sentence could be of any length. As a negative example consider the [keras MNIST tutorial](https://github.com/keras-team/keras/blob/master/examples/mnist_mlp.py) which is typical of most machine learning models. This example classifies an image as one of **10** categories given the **784** pixels of the image. The traditional approach is a natural fit for many applications but for tasks such as machine translation seq2seq models are more intuitive.\n",
    "\n",
    "**Recurrent Neural Networks (RNNs)**: We won't discuss RNNs in much detail in this post. However to appreciate the Transformer model you should understand that RNNs, such as [LSTMs](https://en.wikipedia.org/wiki/Long_short-term_memory), have been the leaders in the seq2seq space for a while. However, they have some limitations which are discussed in more detail in Attention Is All You Need.\n",
    "\n",
    "**Convolutional Neural Networks (CNNs)**: One typically thinks of convolutional neural networks in the context of images. However convolutional networks such as [ByteNet](https://arxiv.org/pdf/1610.10099.pdf) or [WaveNet](hhttps://arxiv.org/pdf/1609.03499.pdf) were introduced to handle sequences by restricting the convolutions from \"looking forward\". As with RNNs we won't discuss this in detail and it's not important for understanding the Transformer but it is worth noting that the Transformer is copared against convolutional networks for sequences in Attention Is All You Need.\n",
    "\n",
    "**Encoder/decoder**: Encoder/decoder architectures refer to models with two components. The *encoder* creates a latent representation of the input. The *decoder* then maps this latent representation to the final prediction. This type of architecture is usually seen in RNNs (the encoding is the hidden state of the RNN and a decoder uses this hidden state to make a final prediction), however we'll see this is also a key element of the Transformer model.\n",
    "\n",
    "**Attention**: Attention can be understood in two ways. First, heuristically. Attention is something we apply to seq2seq models. The motivation is that some word(s) in \"Hello how are you?\" is/are more important than others to predict that \"Hola\" should appear as the first word in the corresponding Spanish translation. Attention is a learned mechanism that allows the model to pay attention to words that are more relevant than others. Second we can understand attention mathematically which we'll discuss this more below.\n",
    "\n",
    "**Auto regressive**: In the most general sense an [autoregressive models](https://en.wikipedia.org/wiki/Autoregressive_model) predict sequences where each new prediction depends on predictions of previous steps. In NLP this usually means that we predict one token of the output at a time given some input and the tokens previously predicted. keras has a pretty good [tutorial](https://blog.keras.io/a-ten-minute-introduction-to-sequence-to-sequence-learning-in-keras.html) that describes this process. This pattern is seen in RNNs and the Transformer follows suit."
   ]
  },
  {
   "cell_type": "markdown",
   "metadata": {},
   "source": [
    "# The Transformer at a High Level\n",
    "\n",
    "Now that we've covered the preliminaries we can discuss the Transformer at a high level.\n",
    "\n",
    "At a high level, the Transformer model follows the encoder/decoder pattern mapping two input matrices (each containing sequences of word embeddings) of shape $n\\times d_{model}$ to a matrix of shape $n\\times\\text{vocab size}$ where $n$ is the sequence size. The Transformer is a true seq2seq model and therefore $n$ is not fixed but determined by the length of the sequence(s) at hand.\n",
    "\n",
    "The Transformer makes predictions without recurrence or convolutions and rather stacks dense layers seen in traditional deep neural networks with an attention mechanism as the activation function of certain layers. In particular the Transformer makes use of something known as \"multi-head attention\". While multi-head attention was not introduced by this model, it was by one of the authors of Attention Is All You Need and improved on in the Transformer.\n",
    "\n",
    "The Transformer incorporates the usual NLP tricks along with various state of the art techniques all into one architecture. Examples include word embeddings, residual connections, layer normalization, learning rate scheduling and byte pair encoding."
   ]
  },
  {
   "cell_type": "markdown",
   "metadata": {},
   "source": [
    "# Data processing"
   ]
  },
  {
   "cell_type": "markdown",
   "metadata": {},
   "source": [
    "## Byte Pair Encoding"
   ]
  },
  {
   "cell_type": "markdown",
   "metadata": {},
   "source": [
    "First, let's cover the data processing used in the paper - Byte Pair Encoding or BPE.\n",
    "\n",
    "BPE is a particular implementation of the more general notion of [subword units](http://www.aclweb.org/anthology/P16-1162), a simple but powerful idea.\n",
    "\n",
    "Subword units is based on the intuition that pieces of a word may generalize better in machine translation than the entire word itself. As a simple example we can see that the subword units `[\"pre\", \"determine\", \"d\"]` together carry all of the information required to express the word `\"predetermined\"`, but some additional information as well that may be useful for generalization.\n",
    "\n",
    "BPE is essentially a greedy algorithm that learns the optimal subword units needed to tokenize a given corpus given a constraint on the number of subword units it must learn. The paper above gives the following example. Given the corpus `[\"low\", \"lowest\", \"newer\", \"wider\"]` BPE would learn to tokenize `\"lower\"` as `[\"low\", \"er\"]`.\n",
    "\n",
    "This brings us to the advantages of BPE. Namely Subword units frees machine translation models of restrictions imposed by learning from a fixed dictionary. Notice in the example above `\"lower\"` was tokenized in a meaningful way but was not part of the training corpus. This is distinguished from the paradigm where a model is trained on a fixed dictionary of the top $N$ most popular words.\n",
    "\n",
    "Not only does this reduce the number of out of vocabulary tokens required at train time, it also introduces the possibility of correctly predicting words *not seen* at train time by predicting the correct subword units."
   ]
  },
  {
   "cell_type": "markdown",
   "metadata": {},
   "source": [
    "# Architecture\n",
    "\n",
    "Caveat: The Transformer makes use of many ideas that could be covered in an entire post themselves, such as [Residual Connections](https://arxiv.org/pdf/1512.03385.pdf) and [Layer Normalization](https://arxiv.org/pdf/1607.06450.pdf). To keep this post brief I'm going to focus mainly on the Attention component of the Transformer model. However I will highlight the key aspects of the model's architecture even if I don't cover each piece in depth."
   ]
  },
  {
   "cell_type": "markdown",
   "metadata": {},
   "source": [
    "## Encoder/Decoder\n",
    "\n",
    "As mentioned above the transformer follows the encoder/decoder pattern. This is explained best with the following picture from the paper.\n",
    "\n",
    "<img src=\"./static/transformer-architecture.png\" alt=\"drawing\" width=\"400px\"/>"
   ]
  },
  {
   "cell_type": "markdown",
   "metadata": {},
   "source": [
    "Here the left side is the encoder and the right side is the decoder. In the case of translation the input to the encoder is the sentence to translate (technically the sentence converted to a sequence of word vectors) and the input to the decoder is the target sentence (shifted right by one token, this is covered more in the section on Masking).\n",
    "\n",
    "As we can see from the picture the encoding is brought into the middle of the decoder. The final output of the decoder is a sequence of softmax probabilities for each token in the translated sentence."
   ]
  },
  {
   "cell_type": "markdown",
   "metadata": {},
   "source": [
    "## Embeddings\n",
    "\n",
    "Like many approaches to NLP the first step of the Transformer is to convert the sequences of tokens to learned word embeddings. The dimmension of the embeddings is referred to as $d_{model}$ in the Attention Is All You Need paper but you may see this referred to as the \"hidden size\" elsewhere, e.g. [in tensor2tensor](https://github.com/tensorflow/tensor2tensor/blob/342e214dea360a7f472fc82f3dd0775d7e224c52/tensor2tensor/models/transformer.py#L1474). In the paper $d_{model}=512$.\n",
    "\n",
    "Keep in mind that the output of the embedding layers is a matrix in $R^{n\\times d_{model}}$, where $n$ is the sequence length. This is straightforward but will come up again."
   ]
  },
  {
   "cell_type": "markdown",
   "metadata": {},
   "source": [
    "## Positional Encodings\n",
    "\n",
    "We've mentioned before that intuitively, order matters in seq2seq models, something explicitly accounted for in RNNs by design.\n",
    "\n",
    "To account for word order (or position) the Transformer adds a \"positional encoding\" to the word embeddings.\n",
    "\n",
    "As pointed out in the paper there are several positional encoding schemes to choose from, however the Transformer employs the following.\n",
    "\n",
    "$$\n",
    "\\begin{align*}\n",
    "& PE_{pos, 2i}=sin(pos/10000^{2i/d_{model}}) \\\\\n",
    "& PE_{pos, 2i+1}=cos(pos/10000^{2i/d_{model}})\n",
    "\\end{align*}\n",
    "$$\n",
    "\n",
    "The authors also point out that learned positional embeddings performed just as well, however this particular scheme should allow the model to generalize to sequences of greater length than seen at train time."
   ]
  },
  {
   "cell_type": "markdown",
   "metadata": {},
   "source": [
    "# Attention\n",
    "\n",
    "Now we can break into talking about attention. After running the encoder/decoder inputs through an embedding layer and positional encoding both components of the model consist of a stack of identical layers (although these layers differ for the encoder and decoder as seen in the picture above).\n",
    "\n",
    "Each layer consists of what the paper describes as \"sublayers\". This is where attention becomes a key component of the model.\n",
    "\n",
    "If you are unfamiliar with attention keep in mind that during this discussion we'll assume certain details that are true of the Transformer, but not necessarily every implementation of attention (such as additive vs. multiplicative attention).\n",
    "\n",
    "The authors of Attention Is All You Need describe attention as follows \"An attention function can be described as mapping a query and a set of key-value pairs to an output, where the query, keys, values, and output are all vectors\" - which isn't super helpful as it basically just tells us that the attention function is indeed a function and its input is three vectors.\n",
    "\n",
    "Let's take a look at this a little closer.\n",
    "\n",
    "Copying the notation from the paper we can represent attention mathematically as\n",
    "\n",
    "$$\n",
    "\\text{Attention}(Q, K, V) = \\text{softmax}(\\frac{QK^{T}}{\\sqrt{d_{k}}})V\n",
    "$$\n",
    "\n",
    "where $K\\in R^{d_{k}}$."
   ]
  },
  {
   "cell_type": "markdown",
   "metadata": {},
   "source": [
    "Let's break this down a bit, ignoring the normalization factor $\\sqrt{d_{k}}$ (which is simply an artifact to help the model converge during training - see the paper for details).\n",
    "\n",
    "The argument to the softmax function can be seen as a similarity matrix of $Q$ and $K$ (think of [this](https://en.wikipedia.org/wiki/Euclidean_vector#Dot_product)). Usually we use the softmax function to represent class probabilities, but in this case we can think of the output of the softmax functions as weights that get applied the values of $V$, where the values of $V$ are amplified corresponding to the positions where $Q$ was most similar to $K$.\n",
    "\n",
    "In practice we want to compute the attention function over many \"queries\", \"keys\" and \"values\" and for efficiency $Q$, $K$ and $V$ are matrices when we implement this.\n",
    "\n",
    "For simplicity however, we can look at an example of the attention function computed on a single \"query\" against several \"keys\" and \"values\".\n",
    "\n",
    "Remember that the rows in this example would be word vectors in the Transformer model."
   ]
  },
  {
   "cell_type": "code",
   "execution_count": 150,
   "metadata": {},
   "outputs": [
    {
     "data": {
      "text/plain": [
       "array([[5.49833997e-01, 4.50166003e-01, 1.58206851e-22, 1.30537252e-25]])"
      ]
     },
     "execution_count": 150,
     "metadata": {},
     "output_type": "execute_result"
    }
   ],
   "source": [
    "import numpy as np\n",
    "Q = np.array([[-1, 6, 3]])\n",
    "K = V = np.array([\n",
    "    [-1.0,  6.0, 3.2],  # Q is most similar to first two rows\n",
    "    [-1.1,  6.3, 2.5],  # these values will dominate the product softmax(.) V\n",
    "    [ 6.0, -1.0, 3.0],\n",
    "    [10.1,  0.0, 0.0],\n",
    "])\n",
    "def softmax(z): \n",
    "    max_z = np.max(z, axis=1).reshape(-1, 1)\n",
    "    exp_z = np.exp(z - max_z)\n",
    "    return exp_z / np.sum(exp_z, axis=1).reshape(-1, 1)\n",
    "sigma = softmax(Q.dot(K.T))\n",
    "sigma"
   ]
  },
  {
   "cell_type": "code",
   "execution_count": 151,
   "metadata": {},
   "outputs": [
    {
     "data": {
      "text/plain": [
       "array([[-1.0450166,  6.1350498,  2.8848838]])"
      ]
     },
     "execution_count": 151,
     "metadata": {},
     "output_type": "execute_result"
    }
   ],
   "source": [
    "sigma.dot(V)"
   ]
  },
  {
   "cell_type": "markdown",
   "metadata": {},
   "source": [
    "## Multi-head Attention"
   ]
  },
  {
   "cell_type": "markdown",
   "metadata": {},
   "source": [
    "Now that we've covered the attention mechanism itself let's discuss how it's actually implemented in the Transformer as \"multi-head\" attention.\n",
    "\n",
    "Given three matrices $Q$, $K$ and $V$, multi-head attention is simply the concatenation of several attention heads. What is an attention head? Simply this, an attention head learns three weight matrices that project $Q$, $K$ and $V$ into the spaces $\\mathbb{R}^{d_{model}\\times d_{k}}$, $\\mathbb{R}^{d_{model}\\times d_{k}}$ and $\\mathbb{R}^{d_{model}\\times d_{v}}$ and computes attention on the projections.\n",
    "\n",
    "Copying the notation from the paper,  multi-head attention is defined as\n",
    "\n",
    "$$\n",
    "\\text{MultiHead}(Q,K,V)=\\text{concat}(head_{1},\\dots,head_{n}) \\\\\n",
    "\\text{where }head_{i}=\\text{attention}(QW_{i}^{Q}, KW_{i}^{K}, VW_{i}^{V})\n",
    "$$\n",
    "\n",
    "In [my keras implementation](https://github.com/dantegates/attention-is-all-you-need) of the transformer multi-head attention is implemented (roughly) with two classes as follows\n",
    "\n",
    "```python\n",
    "class MultiHeadAttention(Layer):\n",
    "    def __init__(self, n_heads, d_model, d_k, d_v, masking=False, **kwargs):\n",
    "        # activation = comparison\n",
    "        logger.debug('init MultiHeadAttention')\n",
    "        assert d_model % n_heads == 0, 'h must divide d_model evenly'\n",
    "        self.n_heads = n_heads\n",
    "        self.d_model = d_model\n",
    "        self.d_k = self.d_model // n_heads if d_k is None else d_k\n",
    "        self.d_v = self.d_model // n_heads if d_v is None else d_v\n",
    "        self.masking = masking\n",
    "        super().__init__(**kwargs)\n",
    "        \n",
    "    def build(self, input_shape):\n",
    "        if isinstance(input_shape, list):\n",
    "            assert len(set(input_shape)) == 1, 'k, q, and v must be of same shape'\n",
    "            shape = input_shape[0]\n",
    "        else:\n",
    "            shape = input_shape\n",
    "        logger.debug('building MultiAttention')\n",
    "        self.W_o = self.add_weight(name='W_o', \n",
    "                                   shape=(self.n_heads*self.d_v, self.d_model),\n",
    "                                   initializer='uniform',\n",
    "                                   trainable=True)\n",
    "        self.heads = [AttentionHead(d_model=self.d_model, d_k=self.d_k, d_v=self.d_v, activation='softmax')\n",
    "                      for _ in range(self.n_heads)]\n",
    "        super().build(input_shape)\n",
    "    \n",
    "    # this signature is a hack to work with keras layers call only adding\n",
    "    # a single position tensor to the graph (causes problems in encoder-decoder\n",
    "    # attention)\n",
    "    def call(self, inputs):\n",
    "        concat = K.concatenate([head(inputs, masking=self.masking) for head in self.heads])\n",
    "        logger.debug('concat shape: %s', K.int_shape(concat))\n",
    "        return K.dot(concat, self.W_o)\n",
    "\n",
    "    def compute_output_shape(self, input_shape):\n",
    "        ...\n",
    "```\n",
    "```python\n",
    "class AttentionHead(Layer):\n",
    "    def __init__(self, d_model, d_k, d_v, activation, **kwargs):\n",
    "        logger.debug('init AttentionHead') \n",
    "        self.d_model = d_model\n",
    "        self.d_k = d_k\n",
    "        self.d_v = d_v\n",
    "        self.scalar = np.sqrt(self.d_k)\n",
    "        self._activation = activation\n",
    "        self.activation = activations.get(activation)\n",
    "        super().__init__(**kwargs)\n",
    "\n",
    "    def build(self, input_shape):\n",
    "        if isinstance(input_shape, list):\n",
    "            assert len(set(input_shape)) == 1, 'k, q, and v must be of same shape'\n",
    "            shape = input_shape[0]\n",
    "        else:\n",
    "            shape = input_shape\n",
    "        self.W_q = self.add_weight(name='W_q',\n",
    "                                   shape=(shape[-1], self.d_k),\n",
    "                                   initializer=RandomNormal(mean=0.0, stddev=1.0),\n",
    "                                   trainable=True)\n",
    "        self.W_k = self.add_weight(name='W_k',\n",
    "                                   shape=(shape[-1], self.d_k),\n",
    "                                   initializer=RandomNormal(mean=0.0, stddev=1.0),\n",
    "                                   trainable=True)\n",
    "        self.W_v = self.add_weight(name='W_v',\n",
    "                                   shape=(shape[-1], self.d_v),\n",
    "                                   initializer=RandomNormal(mean=0.0, stddev=1.0),\n",
    "                                   trainable=True)\n",
    "        super().build(input_shape)\n",
    "\n",
    "    def call(self, inputs, masking=False):\n",
    "        try:\n",
    "            q, k, v = inputs\n",
    "        except TypeError:\n",
    "            q = k = v = inputs\n",
    "        q_p = K.dot(q, self.W_q)\n",
    "        k_p = K.dot(k, self.W_k)\n",
    "        v_p = K.dot(v, self.W_v)\n",
    "        k_t = K.permute_dimensions(K.transpose(k_p), (2, 0, 1))\n",
    "        attention_weights = K.batch_dot(q_p, k_t) / K.variable(self.scalar)\n",
    "        if masking:\n",
    "            logger.debug('masking')\n",
    "            attention_weights = self.mask(attention_weights)\n",
    "        x = self.activation(attention_weights)\n",
    "        return K.batch_dot(x, v_p)\n",
    "\n",
    "    def mask(self, x):\n",
    "        shape = K.int_shape(x)\n",
    "        assert shape[1] == shape[2], 'expected square matrix'\n",
    "        mask = np.zeros((shape[1], shape[1]))\n",
    "        invalid_indices = np.triu_indices(shape[1], 1)\n",
    "        mask[invalid_indices] = 1e-15\n",
    "        mask = K.variable(mask)\n",
    "        return x + mask\n",
    "\n",
    "    def compute_output_shape(self, input_shape):\n",
    "        ...\n",
    "```"
   ]
  },
  {
   "cell_type": "markdown",
   "metadata": {},
   "source": [
    "## Self-attention\n",
    "\n",
    "Now we understand multi-head attention. Great. But how does it fit into the Transformer again?\n",
    "\n",
    "Multi-head attention fits into the transformer as follows. *In the encoder* and the *first sublayer of the decoder* the Transformer applies something called self-attention. That is $Q=K=V$ which in this case happens to be the encoder/decoder inputs - sequences of word vectors of shape $n\\times d_{model}$.\n",
    "\n",
    "In the *second sublayer of the decoder* $Q=K=\\text{encoder output}$ and $V=\\text{output of decoder sublayer 1}$."
   ]
  },
  {
   "cell_type": "markdown",
   "metadata": {},
   "source": [
    "## Masking\n",
    "\n",
    "Remember above how we noted that the Transformer is an autoregressive model? This has implications for how we implement self-attention in the decoder.\n",
    "\n",
    "At train time we know all tokens of the target sequence. However at run time we only know the tokens of the target sequence that we have already generated. This means that if we aren't careful with how we implement the product $QK$ information from later tokens in the sequence will \"leak\" into earlier positions. To prevent this from happening we mask $K$ by setting all values above the diagonal to a really small number - which pushes the corresponding dot products to 0 in the softmax."
   ]
  },
  {
   "cell_type": "markdown",
   "metadata": {},
   "source": [
    "# Other techniques used in the architecture"
   ]
  },
  {
   "cell_type": "markdown",
   "metadata": {},
   "source": [
    "## Residual Connections\n",
    "\n",
    "The Transformer makes use of residual connections. That is, the input of each sublayer is added to the output of the multi-attention-head or feed forward network. As mentioned above this is a topic that deserves its own comprehensive treatment. For more details see https://arxiv.org/pdf/1512.03385.pdf and https://arxiv.org/pdf/1603.05027.pdf. One key thing to know about residual connections however is that they help combat the [vanishing gradient problem](https://en.wikipedia.org/wiki/Vanishing_gradient_problem)."
   ]
  },
  {
   "cell_type": "markdown",
   "metadata": {},
   "source": [
    "## Layer normalization\n",
    "\n",
    "[Batch normalization](https://arxiv.org/pdf/1502.03167.pdf) is a method that has been shown to significantly decrease the amount of time needed during training for deep neural networks to converge. The name of the method is self explanatory. To implement batch normalization one simply normalizes each batch by substracting of the mean value of the batch and dividing by the variance (additionally learned \"gain\" and \"bias\" parameters are applied to each batch). This prevents what is known as \"internal covariate shift\"\n",
    "\n",
    "Layer normalization was introduced as an improvement to batch normalization, namely it could be applied to RNNs and \n",
    "https://arxiv.org/pdf/1607.06450.pdf"
   ]
  },
  {
   "cell_type": "markdown",
   "metadata": {},
   "source": [
    "# Training"
   ]
  },
  {
   "cell_type": "markdown",
   "metadata": {},
   "source": [
    "## Batches\n",
    "\n",
    "Training batches for the Transformer are constructed as follows\n",
    "\n",
    "- Training examples (sentences for translation) are \"batched\" together according to the number of tokens in each sentence.\n",
    "- From these \"batches\" training \"steps\" are constructed by grouping examples together to reach an approximate number of tokens desired per step - this is a shift from the typical notion when training on features of fixed dimmension where batches contain a *fixed* number of examples.\n",
    "\n",
    "It is important to take note of the following details.\n",
    "1. A gradient update is performed at each \"step\" - thus in this case what the paper refers to as training steps is more similar to a training batch in other contexts. Indeed, even in the tensor2tensor [source](https://github.com/tensorflow/tensor2tensor/blob/342e214dea360a7f472fc82f3dd0775d7e224c52/tensor2tensor/layers/common_hparams.py#L34) the word \"batch_size\" is used to describe what would be called a \"step\" size in the paper.\n",
    "2. Constructing training steps from batches of sentences of approximately equal length minimizes (and in some steps may even eliminate) the amount of padding needed at train time."
   ]
  },
  {
   "cell_type": "markdown",
   "metadata": {},
   "source": [
    "## Learning rate\n",
    "\n",
    "During training the learning rate of the optimizer (specifically Adam in the paper) varies at each step (see discussion on batches above), according to the paper the schedule \"[increases] the learning rate linearly for the first *warmup_steps* and [decreases] it thereafter proportionally to the inverse square root of the step number.\" The following code shows how the learning rate is calculated using the default values from the paper and plots the schedule."
   ]
  },
  {
   "cell_type": "code",
   "execution_count": 64,
   "metadata": {},
   "outputs": [],
   "source": [
    "import matplotlib.pyplot as plt\n",
    "import numpy as np\n",
    "\n",
    "@np.vectorize\n",
    "def lr_schedule(step_number, d_model, warmup_steps):\n",
    "    return d_model**-0.5 * min(step_number**-0.5, step_number*warmup_steps**-1.5)"
   ]
  },
  {
   "cell_type": "code",
   "execution_count": 65,
   "metadata": {},
   "outputs": [
    {
     "data": {
      "text/plain": [
       "[<matplotlib.lines.Line2D at 0x10c26c518>]"
      ]
     },
     "execution_count": 65,
     "metadata": {},
     "output_type": "execute_result"
    },
    {
     "data": {
      "image/png": "[encoded data removed]",
      "text/plain": [
       "<matplotlib.figure.Figure at 0x10c1e2c18>"
      ]
     },
     "metadata": {},
     "output_type": "display_data"
    }
   ],
   "source": [
    "plt.plot(lr_schedule(np.arange(1, 20_000), d_model=512, warmup_steps=4000))"
   ]
  },
  {
   "cell_type": "markdown",
   "metadata": {},
   "source": [
    "Note that the learning rate is determined by\n",
    "\n",
    "- The value $d_{model}$\n",
    "- The number of batches previously trained on\n",
    "- The number of warmup batches chosen\n",
    "\n",
    "The purpose of including $d_{model}$, rather the simply number of steps, is to define a learning rate schedule as a function of the model size so that a single formula can be used for models of all sizes without the need to tune additional parameters in the scheduler. I'd like to include a reference here but I cannot remember where I came accross this - it was either in a comment burried somewhere in the tensor2tensor source or the youtube link referenced above."
   ]
  },
  {
   "cell_type": "markdown",
   "metadata": {},
   "source": [
    "## Label smoothing"
   ]
  }
 ],
 "metadata": {
  "kernelspec": {
   "display_name": "Python 3",
   "language": "python",
   "name": "python3"
  },
  "language_info": {
   "codemirror_mode": {
    "name": "ipython",
    "version": 3
   },
   "file_extension": ".py",
   "mimetype": "text/x-python",
   "name": "python",
   "nbconvert_exporter": "python",
   "pygments_lexer": "ipython3",
   "version": "3.6.2"
  }
 },
 "nbformat": 4,
 "nbformat_minor": 2
}
